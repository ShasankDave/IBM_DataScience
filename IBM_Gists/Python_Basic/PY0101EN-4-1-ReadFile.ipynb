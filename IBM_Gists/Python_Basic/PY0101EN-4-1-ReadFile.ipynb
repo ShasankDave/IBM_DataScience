{
 "cells": [
  {
   "cell_type": "markdown",
   "metadata": {},
   "source": [
    "<div class=\"alert alert-block alert-info\" style=\"margin-top: 20px\">\n",
    "    <a href=\"https://cocl.us/topNotebooksPython101Coursera\">\n",
    "         <img src=\"https://s3-api.us-geo.objectstorage.softlayer.net/cf-courses-data/CognitiveClass/PY0101EN/Ad/TopAd.png\" width=\"750\" align=\"center\">\n",
    "    </a>\n",
    "</div>"
   ]
  },
  {
   "cell_type": "markdown",
   "metadata": {},
   "source": [
    "<a href=\"https://cognitiveclass.ai/\">\n",
    "    <img src=\"https://s3-api.us-geo.objectstorage.softlayer.net/cf-courses-data/CognitiveClass/PY0101EN/Ad/CCLog.png\" width=\"200\" align=\"center\">\n",
    "</a>"
   ]
  },
  {
   "cell_type": "markdown",
   "metadata": {},
   "source": [
    "<h1>Reading Files Python</h1>"
   ]
  },
  {
   "cell_type": "markdown",
   "metadata": {},
   "source": [
    "<p><strong>Welcome!</strong> This notebook will teach you about reading the text file in the Python Programming Language. By the end of this lab, you'll know how to read text files.</p>"
   ]
  },
  {
   "cell_type": "markdown",
   "metadata": {},
   "source": [
    "<h2>Table of Contents</h2>\n",
    "<div class=\"alert alert-block alert-info\" style=\"margin-top: 20px\">\n",
    "    <ul>\n",
    "        <li><a href=\"download\">Download Data</a></li>\n",
    "        <li><a href=\"read\">Reading Text Files</a></li>\n",
    "        <li><a href=\"better\">A Better Way to Open a File</a></li>\n",
    "    </ul>\n",
    "    <p>\n",
    "        Estimated time needed: <strong>40 min</strong>\n",
    "    </p>\n",
    "</div>\n",
    "\n",
    "<hr>"
   ]
  },
  {
   "cell_type": "markdown",
   "metadata": {},
   "source": [
    "<h2 id=\"download\">Download Data</h2>"
   ]
  },
  {
   "cell_type": "code",
   "execution_count": 3,
   "metadata": {},
   "outputs": [
    {
     "name": "stdout",
     "output_type": "stream",
     "text": [
      "GNU Wget 1.16, a non-interactive network retriever.\n",
      "Usage: wget [OPTION]... [URL]...\n",
      "\n",
      "Mandatory arguments to long options are mandatory for short options too.\n",
      "\n",
      "Startup:\n",
      "  -V,  --version                   display the version of Wget and exit.\n",
      "  -h,  --help                      print this help.\n",
      "  -b,  --background                go to background after startup.\n",
      "  -e,  --execute=COMMAND           execute a `.wgetrc'-style command.\n",
      "\n",
      "Logging and input file:\n",
      "  -o,  --output-file=FILE          log messages to FILE.\n",
      "  -a,  --append-output=FILE        append messages to FILE.\n",
      "  -d,  --debug                     print lots of debugging information.\n",
      "  -q,  --quiet                     quiet (no output).\n",
      "  -v,  --verbose                   be verbose (this is the default).\n",
      "  -nv, --no-verbose                turn off verboseness, without being quiet.\n",
      "       --report-speed=TYPE         Output bandwidth as TYPE.  TYPE can be bits.\n",
      "  -i,  --input-file=FILE           download URLs found in local or external FILE.\n",
      "  -F,  --force-html                treat input file as HTML.\n",
      "  -B,  --base=URL                  resolves HTML input-file links (-i -F)\n",
      "                                   relative to URL.\n",
      "       --config=FILE               Specify config file to use.\n",
      "       --no-config                 Do not read any config file.\n",
      "\n",
      "Download:\n",
      "  -t,  --tries=NUMBER              set number of retries to NUMBER (0 unlimits).\n",
      "       --retry-connrefused         retry even if connection is refused.\n",
      "  -O,  --output-document=FILE      write documents to FILE.\n",
      "  -nc, --no-clobber                skip downloads that would download to\n",
      "                                   existing files (overwriting them).\n",
      "  -c,  --continue                  resume getting a partially-downloaded file.\n",
      "       --start-pos=OFFSET          start downloading from zero-based position OFFSET.\n",
      "       --progress=TYPE             select progress gauge type.\n",
      "       --show-progress             display the progress bar in any verbosity mode.\n",
      "  -N,  --timestamping              don't re-retrieve files unless newer than\n",
      "                                   local.\n",
      "  --no-use-server-timestamps       don't set the local file's timestamp by\n",
      "                                   the one on the server.\n",
      "  -S,  --server-response           print server response.\n",
      "       --spider                    don't download anything.\n",
      "  -T,  --timeout=SECONDS           set all timeout values to SECONDS.\n",
      "       --dns-timeout=SECS          set the DNS lookup timeout to SECS.\n",
      "       --connect-timeout=SECS      set the connect timeout to SECS.\n",
      "       --read-timeout=SECS         set the read timeout to SECS.\n",
      "  -w,  --wait=SECONDS              wait SECONDS between retrievals.\n",
      "       --waitretry=SECONDS         wait 1..SECONDS between retries of a retrieval.\n",
      "       --random-wait               wait from 0.5*WAIT...1.5*WAIT secs between retrievals.\n",
      "       --no-proxy                  explicitly turn off proxy.\n",
      "  -Q,  --quota=NUMBER              set retrieval quota to NUMBER.\n",
      "       --bind-address=ADDRESS      bind to ADDRESS (hostname or IP) on local host.\n",
      "       --limit-rate=RATE           limit download rate to RATE.\n",
      "       --no-dns-cache              disable caching DNS lookups.\n",
      "       --restrict-file-names=OS    restrict chars in file names to ones OS allows.\n",
      "       --ignore-case               ignore case when matching files/directories.\n",
      "  -4,  --inet4-only                connect only to IPv4 addresses.\n",
      "  -6,  --inet6-only                connect only to IPv6 addresses.\n",
      "       --prefer-family=FAMILY      connect first to addresses of specified family,\n",
      "                                   one of IPv6, IPv4, or none.\n",
      "       --user=USER                 set both ftp and http user to USER.\n",
      "       --password=PASS             set both ftp and http password to PASS.\n",
      "       --ask-password              prompt for passwords.\n",
      "       --no-iri                    turn off IRI support.\n",
      "       --local-encoding=ENC        use ENC as the local encoding for IRIs.\n",
      "       --remote-encoding=ENC       use ENC as the default remote encoding.\n",
      "       --unlink                    remove file before clobber.\n",
      "\n",
      "Directories:\n",
      "  -nd, --no-directories            don't create directories.\n",
      "  -x,  --force-directories         force creation of directories.\n",
      "  -nH, --no-host-directories       don't create host directories.\n",
      "       --protocol-directories      use protocol name in directories.\n",
      "  -P,  --directory-prefix=PREFIX   save files to PREFIX/...\n",
      "       --cut-dirs=NUMBER           ignore NUMBER remote directory components.\n",
      "\n",
      "HTTP options:\n",
      "       --http-user=USER            set http user to USER.\n",
      "       --http-password=PASS        set http password to PASS.\n",
      "       --no-cache                  disallow server-cached data.\n",
      "       --default-page=NAME         Change the default page name (normally\n",
      "                                   this is `index.html'.).\n",
      "  -E,  --adjust-extension          save HTML/CSS documents with proper extensions.\n",
      "       --ignore-length             ignore `Content-Length' header field.\n",
      "       --header=STRING             insert STRING among the headers.\n",
      "       --max-redirect              maximum redirections allowed per page.\n",
      "       --proxy-user=USER           set USER as proxy username.\n",
      "       --proxy-password=PASS       set PASS as proxy password.\n",
      "       --referer=URL               include `Referer: URL' header in HTTP request.\n",
      "       --save-headers              save the HTTP headers to file.\n",
      "  -U,  --user-agent=AGENT          identify as AGENT instead of Wget/VERSION.\n",
      "       --no-http-keep-alive        disable HTTP keep-alive (persistent connections).\n",
      "       --no-cookies                don't use cookies.\n",
      "       --load-cookies=FILE         load cookies from FILE before session.\n",
      "       --save-cookies=FILE         save cookies to FILE after session.\n",
      "       --keep-session-cookies      load and save session (non-permanent) cookies.\n",
      "       --post-data=STRING          use the POST method; send STRING as the data.\n",
      "       --post-file=FILE            use the POST method; send contents of FILE.\n",
      "       --method=HTTPMethod         use method \"HTTPMethod\" in the request.\n",
      "       --body-data=STRING          Send STRING as data. --method MUST be set.\n",
      "       --body-file=FILE            Send contents of FILE. --method MUST be set.\n",
      "       --content-disposition       honor the Content-Disposition header when\n",
      "                                   choosing local file names (EXPERIMENTAL).\n",
      "       --content-on-error          output the received content on server errors.\n",
      "       --auth-no-challenge         send Basic HTTP authentication information\n",
      "                                   without first waiting for the server's\n",
      "                                   challenge.\n",
      "\n",
      "HTTPS (SSL/TLS) options:\n",
      "       --secure-protocol=PR        choose secure protocol, one of auto, SSLv2,\n",
      "                                   SSLv3, TLSv1 and PFS.\n",
      "       --https-only                only follow secure HTTPS links\n",
      "       --no-check-certificate      don't validate the server's certificate.\n",
      "       --certificate=FILE          client certificate file.\n",
      "       --certificate-type=TYPE     client certificate type, PEM or DER.\n",
      "       --private-key=FILE          private key file.\n",
      "       --private-key-type=TYPE     private key type, PEM or DER.\n",
      "       --ca-certificate=FILE       file with the bundle of CA's.\n",
      "       --ca-directory=DIR          directory where hash list of CA's is stored.\n",
      "       --random-file=FILE          file with random data for seeding the SSL PRNG.\n",
      "       --egd-file=FILE             file naming the EGD socket with random data.\n",
      "\n",
      "FTP options:\n",
      "       --ftp-user=USER             set ftp user to USER.\n",
      "       --ftp-password=PASS         set ftp password to PASS.\n",
      "       --no-remove-listing         don't remove `.listing' files.\n",
      "       --no-glob                   turn off FTP file name globbing.\n",
      "       --no-passive-ftp            disable the \"passive\" transfer mode.\n",
      "       --preserve-permissions      preserve remote file permissions.\n",
      "       --retr-symlinks             when recursing, get linked-to files (not dir).\n",
      "\n",
      "WARC options:\n",
      "       --warc-file=FILENAME        save request/response data to a .warc.gz file.\n",
      "       --warc-header=STRING        insert STRING into the warcinfo record.\n",
      "       --warc-max-size=NUMBER      set maximum size of WARC files to NUMBER.\n",
      "       --warc-cdx                  write CDX index files.\n",
      "       --warc-dedup=FILENAME       do not store records listed in this CDX file.\n",
      "       --no-warc-compression       do not compress WARC files with GZIP.\n",
      "       --no-warc-digests           do not calculate SHA1 digests.\n",
      "       --no-warc-keep-log          do not store the log file in a WARC record.\n",
      "       --warc-tempdir=DIRECTORY    location for temporary files created by the\n",
      "                                   WARC writer.\n",
      "\n",
      "Recursive download:\n",
      "  -r,  --recursive                 specify recursive download.\n",
      "  -l,  --level=NUMBER              maximum recursion depth (inf or 0 for infinite).\n",
      "       --delete-after              delete files locally after downloading them.\n",
      "  -k,  --convert-links             make links in downloaded HTML or CSS point to\n",
      "                                   local files.\n",
      "       --backups=N                 before writing file X, rotate up to N backup files.\n",
      "  -K,  --backup-converted          before converting file X, back up as X.orig.\n",
      "  -m,  --mirror                    shortcut for -N -r -l inf --no-remove-listing.\n",
      "  -p,  --page-requisites           get all images, etc. needed to display HTML page.\n",
      "       --strict-comments           turn on strict (SGML) handling of HTML comments.\n",
      "\n",
      "Recursive accept/reject:\n",
      "  -A,  --accept=LIST               comma-separated list of accepted extensions.\n",
      "  -R,  --reject=LIST               comma-separated list of rejected extensions.\n",
      "       --accept-regex=REGEX        regex matching accepted URLs.\n",
      "       --reject-regex=REGEX        regex matching rejected URLs.\n",
      "       --regex-type=TYPE           regex type (posix).\n",
      "  -D,  --domains=LIST              comma-separated list of accepted domains.\n",
      "       --exclude-domains=LIST      comma-separated list of rejected domains.\n",
      "       --follow-ftp                follow FTP links from HTML documents.\n",
      "       --follow-tags=LIST          comma-separated list of followed HTML tags.\n",
      "       --ignore-tags=LIST          comma-separated list of ignored HTML tags.\n",
      "  -H,  --span-hosts                go to foreign hosts when recursive.\n",
      "  -L,  --relative                  follow relative links only.\n",
      "  -I,  --include-directories=LIST  list of allowed directories.\n",
      "       --trust-server-names        use the name specified by the redirection\n",
      "                                   url last component.\n",
      "  -X,  --exclude-directories=LIST  list of excluded directories.\n",
      "  -np, --no-parent                 don't ascend to the parent directory.\n",
      "\n",
      "Mail bug reports and suggestions to <bug-wget@gnu.org>.\n"
     ]
    }
   ],
   "source": [
    "# Download Example file\n",
    "!wget --help\n",
    "#!wget -O /resources/data/Example1.txt https://s3-api.us-geo.objectstorage.softlayer.net/cf-courses-data/CognitiveClass/PY0101EN/labs/example1.txt"
   ]
  },
  {
   "cell_type": "markdown",
   "metadata": {},
   "source": [
    "<hr>"
   ]
  },
  {
   "cell_type": "markdown",
   "metadata": {},
   "source": [
    "<h2 id=\"read\">Reading Text Files</h2>"
   ]
  },
  {
   "cell_type": "markdown",
   "metadata": {},
   "source": [
    "One way to read or write a file in Python is to use the built-in <code>open</code> function. The <code>open</code> function provides a <b>File object</b> that contains the methods and attributes you need in order to read, save, and manipulate the file. In this notebook, we will only cover <b>.txt</b> files. The first parameter you need is the file path and the file name. An example is shown as follow:"
   ]
  },
  {
   "cell_type": "markdown",
   "metadata": {},
   "source": [
    "<img src=\"https://s3-api.us-geo.objectstorage.softlayer.net/cf-courses-data/CognitiveClass/PY0101EN/Chapter%204/Images/ReadOpen.png\" width=\"500\" />"
   ]
  },
  {
   "cell_type": "markdown",
   "metadata": {},
   "source": [
    " The mode argument is optional and the default value is <b>r</b>. In this notebook we only cover two modes: \n",
    "<ul>\n",
    "    <li><b>r</b> Read mode for reading files </li>\n",
    "    <li><b>w</b> Write mode for writing files</li>\n",
    "</ul>"
   ]
  },
  {
   "cell_type": "markdown",
   "metadata": {},
   "source": [
    "For the next example, we will use the text file <b>Example1.txt</b>. The file is shown as follow:"
   ]
  },
  {
   "cell_type": "markdown",
   "metadata": {},
   "source": [
    "<img src=\"https://s3-api.us-geo.objectstorage.softlayer.net/cf-courses-data/CognitiveClass/PY0101EN/Chapter%204/Images/ReadFile.png\" width=\"200\" />"
   ]
  },
  {
   "cell_type": "markdown",
   "metadata": {},
   "source": [
    " We read the file: "
   ]
  },
  {
   "cell_type": "code",
   "execution_count": 4,
   "metadata": {},
   "outputs": [],
   "source": [
    "# Read the Example1.txt\n",
    "\n",
    "example1 = \"/resources/data/Example1.txt\"\n",
    "file1 = open(example1, \"r\")"
   ]
  },
  {
   "cell_type": "markdown",
   "metadata": {},
   "source": [
    " We can view the attributes of the file."
   ]
  },
  {
   "cell_type": "markdown",
   "metadata": {},
   "source": [
    "The name of the file:"
   ]
  },
  {
   "cell_type": "code",
   "execution_count": 5,
   "metadata": {},
   "outputs": [
    {
     "data": {
      "text/plain": [
       "'/resources/data/Example1.txt'"
      ]
     },
     "execution_count": 5,
     "metadata": {},
     "output_type": "execute_result"
    }
   ],
   "source": [
    "# Print the path of file\n",
    "\n",
    "file1.name"
   ]
  },
  {
   "cell_type": "markdown",
   "metadata": {},
   "source": [
    " The mode the file object is in:"
   ]
  },
  {
   "cell_type": "code",
   "execution_count": 6,
   "metadata": {},
   "outputs": [
    {
     "data": {
      "text/plain": [
       "'r'"
      ]
     },
     "execution_count": 6,
     "metadata": {},
     "output_type": "execute_result"
    }
   ],
   "source": [
    "# Print the mode of file, either 'r' or 'w'\n",
    "\n",
    "file1.mode"
   ]
  },
  {
   "cell_type": "markdown",
   "metadata": {},
   "source": [
    "We can read the file and assign it to a variable :"
   ]
  },
  {
   "cell_type": "code",
   "execution_count": 7,
   "metadata": {},
   "outputs": [
    {
     "data": {
      "text/plain": [
       "'This is line 1 \\nThis is line 2\\nThis is line 3'"
      ]
     },
     "execution_count": 7,
     "metadata": {},
     "output_type": "execute_result"
    }
   ],
   "source": [
    "# Read the file\n",
    "\n",
    "FileContent = file1.read()\n",
    "FileContent"
   ]
  },
  {
   "cell_type": "markdown",
   "metadata": {},
   "source": [
    "The <b>/n</b> means that there is a new line. "
   ]
  },
  {
   "cell_type": "markdown",
   "metadata": {},
   "source": [
    "We can print the file: "
   ]
  },
  {
   "cell_type": "code",
   "execution_count": 8,
   "metadata": {},
   "outputs": [
    {
     "name": "stdout",
     "output_type": "stream",
     "text": [
      "This is line 1 \n",
      "This is line 2\n",
      "This is line 3\n"
     ]
    }
   ],
   "source": [
    "# Print the file with '\\n' as a new line\n",
    "\n",
    "print(FileContent)"
   ]
  },
  {
   "cell_type": "markdown",
   "metadata": {},
   "source": [
    "The file is of type string:"
   ]
  },
  {
   "cell_type": "code",
   "execution_count": 9,
   "metadata": {},
   "outputs": [
    {
     "data": {
      "text/plain": [
       "str"
      ]
     },
     "execution_count": 9,
     "metadata": {},
     "output_type": "execute_result"
    }
   ],
   "source": [
    "# Type of file content\n",
    "\n",
    "type(FileContent)"
   ]
  },
  {
   "cell_type": "markdown",
   "metadata": {},
   "source": [
    " We must close the file object:"
   ]
  },
  {
   "cell_type": "code",
   "execution_count": 10,
   "metadata": {
    "collapsed": true
   },
   "outputs": [],
   "source": [
    "# Close file after finish\n",
    "\n",
    "file1.close()"
   ]
  },
  {
   "cell_type": "markdown",
   "metadata": {},
   "source": [
    "<hr>"
   ]
  },
  {
   "cell_type": "markdown",
   "metadata": {},
   "source": [
    "<h2 id=\"better\">A Better Way to Open a File</h2>"
   ]
  },
  {
   "cell_type": "markdown",
   "metadata": {},
   "source": [
    "Using the <code>with</code> statement is better practice, it automatically closes the file even if the code encounters an exception. The code will run everything in the indent block then close the file object. "
   ]
  },
  {
   "cell_type": "code",
   "execution_count": 11,
   "metadata": {},
   "outputs": [
    {
     "name": "stdout",
     "output_type": "stream",
     "text": [
      "This is line 1 \n",
      "This is line 2\n",
      "This is line 3\n"
     ]
    }
   ],
   "source": [
    "# Open file using with\n",
    "\n",
    "with open(example1, \"r\") as file1:\n",
    "    FileContent = file1.read()\n",
    "    print(FileContent)"
   ]
  },
  {
   "cell_type": "markdown",
   "metadata": {},
   "source": [
    "The file object is closed, you can verify it by running the following cell:  "
   ]
  },
  {
   "cell_type": "code",
   "execution_count": 12,
   "metadata": {},
   "outputs": [
    {
     "data": {
      "text/plain": [
       "True"
      ]
     },
     "execution_count": 12,
     "metadata": {},
     "output_type": "execute_result"
    }
   ],
   "source": [
    "# Verify if the file is closed\n",
    "\n",
    "file1.closed"
   ]
  },
  {
   "cell_type": "markdown",
   "metadata": {},
   "source": [
    " We can see the info in the file:"
   ]
  },
  {
   "cell_type": "code",
   "execution_count": 13,
   "metadata": {},
   "outputs": [
    {
     "name": "stdout",
     "output_type": "stream",
     "text": [
      "This is line 1 \n",
      "This is line 2\n",
      "This is line 3\n"
     ]
    }
   ],
   "source": [
    "# See the content of file\n",
    "\n",
    "print(FileContent)"
   ]
  },
  {
   "cell_type": "markdown",
   "metadata": {},
   "source": [
    "The syntax is a little confusing as the file object is after the <code>as</code> statement. We also don’t explicitly close the file. Therefore we summarize the steps in a figure:"
   ]
  },
  {
   "cell_type": "markdown",
   "metadata": {},
   "source": [
    "<img src=\"https://s3-api.us-geo.objectstorage.softlayer.net/cf-courses-data/CognitiveClass/PY0101EN/Chapter%204/Images/ReadWith.png\" width=\"500\" />"
   ]
  },
  {
   "cell_type": "markdown",
   "metadata": {},
   "source": [
    "We don’t have to read the entire file, for example, we can read the first 4 characters by entering three as a parameter to the method **.read()**:\n"
   ]
  },
  {
   "cell_type": "code",
   "execution_count": 14,
   "metadata": {},
   "outputs": [
    {
     "name": "stdout",
     "output_type": "stream",
     "text": [
      "This\n"
     ]
    }
   ],
   "source": [
    "# Read first four characters\n",
    "\n",
    "with open(example1, \"r\") as file1:\n",
    "    print(file1.read(4))"
   ]
  },
  {
   "cell_type": "markdown",
   "metadata": {},
   "source": [
    "Once the method <code>.read(4)</code> is called the first 4 characters are called. If we call the method again, the next 4 characters are called. The output for the following cell will demonstrate the process for different inputs to the method <code>read()</code>:"
   ]
  },
  {
   "cell_type": "code",
   "execution_count": 15,
   "metadata": {},
   "outputs": [
    {
     "name": "stdout",
     "output_type": "stream",
     "text": [
      "This\n",
      " is \n",
      "line 1 \n",
      "\n",
      "This is line 2\n"
     ]
    }
   ],
   "source": [
    "# Read certain amount of characters\n",
    "\n",
    "with open(example1, \"r\") as file1:\n",
    "    print(file1.read(4))\n",
    "    print(file1.read(4))\n",
    "    print(file1.read(7))\n",
    "    print(file1.read(15))"
   ]
  },
  {
   "cell_type": "markdown",
   "metadata": {},
   "source": [
    "The process is illustrated in the below figure, and each color represents the part of the file read after the method <code>read()</code> is called:"
   ]
  },
  {
   "cell_type": "markdown",
   "metadata": {},
   "source": [
    "<img src=\"https://s3-api.us-geo.objectstorage.softlayer.net/cf-courses-data/CognitiveClass/PY0101EN/Chapter%204/Images/ReadChar.png\" width=\"500\" />"
   ]
  },
  {
   "cell_type": "markdown",
   "metadata": {},
   "source": [
    " Here is an example using the same file, but instead we read 16, 5, and then 9 characters at a time: "
   ]
  },
  {
   "cell_type": "code",
   "execution_count": 16,
   "metadata": {},
   "outputs": [
    {
     "name": "stdout",
     "output_type": "stream",
     "text": [
      "This is line 1 \n",
      "\n",
      "This \n",
      "is line 2\n"
     ]
    }
   ],
   "source": [
    "# Read certain amount of characters\n",
    "\n",
    "with open(example1, \"r\") as file1:\n",
    "    print(file1.read(16))\n",
    "    print(file1.read(5))\n",
    "    print(file1.read(9))"
   ]
  },
  {
   "cell_type": "markdown",
   "metadata": {},
   "source": [
    "We can also read one line of the file at a time using the method <code>readline()</code>: "
   ]
  },
  {
   "cell_type": "code",
   "execution_count": 17,
   "metadata": {},
   "outputs": [
    {
     "name": "stdout",
     "output_type": "stream",
     "text": [
      "first line: This is line 1 \n",
      "\n"
     ]
    }
   ],
   "source": [
    "# Read one line\n",
    "\n",
    "with open(example1, \"r\") as file1:\n",
    "    print(\"first line: \" + file1.readline())"
   ]
  },
  {
   "cell_type": "markdown",
   "metadata": {},
   "source": [
    " We can use a loop to iterate through each line: \n"
   ]
  },
  {
   "cell_type": "code",
   "execution_count": 18,
   "metadata": {},
   "outputs": [
    {
     "name": "stdout",
     "output_type": "stream",
     "text": [
      "Iteration 0 :  This is line 1 \n",
      "\n",
      "Iteration 1 :  This is line 2\n",
      "\n",
      "Iteration 2 :  This is line 3\n"
     ]
    }
   ],
   "source": [
    "# Iterate through the lines\n",
    "\n",
    "with open(example1,\"r\") as file1:\n",
    "        i = 0;\n",
    "        for line in file1:\n",
    "            print(\"Iteration\", str(i), \": \", line)\n",
    "            i = i + 1;"
   ]
  },
  {
   "cell_type": "markdown",
   "metadata": {},
   "source": [
    "We can use the method <code>readlines()</code> to save the text file to a list: "
   ]
  },
  {
   "cell_type": "code",
   "execution_count": 21,
   "metadata": {
    "collapsed": true
   },
   "outputs": [],
   "source": [
    "# Read all lines and save as a list\n",
    "\n",
    "with open(example1, \"r\") as file1:\n",
    "    FileasList = file1.readlines()"
   ]
  },
  {
   "cell_type": "markdown",
   "metadata": {},
   "source": [
    " Each element of the list corresponds to a line of text:"
   ]
  },
  {
   "cell_type": "code",
   "execution_count": 23,
   "metadata": {},
   "outputs": [
    {
     "data": {
      "text/plain": [
       "['This is line 1 \\n', 'This is line 2\\n', 'This is line 3']"
      ]
     },
     "execution_count": 23,
     "metadata": {},
     "output_type": "execute_result"
    }
   ],
   "source": [
    "# Print the first line\n",
    "\n",
    "FileasList[0]\n",
    "FileasList"
   ]
  },
  {
   "cell_type": "code",
   "execution_count": null,
   "metadata": {},
   "outputs": [],
   "source": [
    "# Print the second line\n",
    "\n",
    "FileasList[1]"
   ]
  },
  {
   "cell_type": "code",
   "execution_count": null,
   "metadata": {},
   "outputs": [],
   "source": [
    "# Print the third line\n",
    "\n",
    "FileasList[2]"
   ]
  },
  {
   "cell_type": "markdown",
   "metadata": {},
   "source": [
    "<hr>\n",
    "<h2>The last exercise!</h2>\n",
    "<p>Congratulations, you have completed your first lesson and hands-on lab in Python. However, there is one more thing you need to do. The Data Science community encourages sharing work. The best way to share and showcase your work is to share it on GitHub. By sharing your notebook on GitHub you are not only building your reputation with fellow data scientists, but you can also show it off when applying for a job. Even though this was your first piece of work, it is never too early to start building good habits. So, please read and follow <a href=\"https://cognitiveclass.ai/blog/data-scientists-stand-out-by-sharing-your-notebooks/\" target=\"_blank\">this article</a> to learn how to share your work.\n",
    "<hr>"
   ]
  },
  {
   "cell_type": "markdown",
   "metadata": {},
   "source": [
    "<div class=\"alert alert-block alert-info\" style=\"margin-top: 20px\">\n",
    "<h2>Get IBM Watson Studio free of charge!</h2>\n",
    "    <p><a href=\"https://cocl.us/bottemNotebooksPython101Coursera\"><img src=\"https://s3-api.us-geo.objectstorage.softlayer.net/cf-courses-data/CognitiveClass/PY0101EN/Ad/BottomAd.png\" width=\"750\" align=\"center\"></a></p>\n",
    "</div>"
   ]
  },
  {
   "cell_type": "markdown",
   "metadata": {},
   "source": [
    "<h3>About the Authors:</h3>  \n",
    "<p><a href=\"https://www.linkedin.com/in/joseph-s-50398b136/\" target=\"_blank\">Joseph Santarcangelo</a> is a Data Scientist at IBM, and holds a PhD in Electrical Engineering. His research focused on using Machine Learning, Signal Processing, and Computer Vision to determine how videos impact human cognition. Joseph has been working for IBM since he completed his PhD.</p>"
   ]
  },
  {
   "cell_type": "markdown",
   "metadata": {},
   "source": [
    "Other contributors: <a href=\"www.linkedin.com/in/jiahui-mavis-zhou-a4537814a\">Mavis Zhou</a>"
   ]
  },
  {
   "cell_type": "markdown",
   "metadata": {},
   "source": [
    "<hr>"
   ]
  },
  {
   "cell_type": "markdown",
   "metadata": {},
   "source": [
    "<p>Copyright &copy; 2018 IBM Developer Skills Network. This notebook and its source code are released under the terms of the <a href=\"https://cognitiveclass.ai/mit-license/\">MIT License</a>.</p>"
   ]
  }
 ],
 "metadata": {
  "kernelspec": {
   "display_name": "Python 3",
   "language": "python",
   "name": "python3"
  },
  "language_info": {
   "codemirror_mode": {
    "name": "ipython",
    "version": 3
   },
   "file_extension": ".py",
   "mimetype": "text/x-python",
   "name": "python",
   "nbconvert_exporter": "python",
   "pygments_lexer": "ipython3",
   "version": "3.6.8"
  }
 },
 "nbformat": 4,
 "nbformat_minor": 2
}
